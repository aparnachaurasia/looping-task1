{
 "cells": [
  {
   "cell_type": "code",
   "execution_count": 13,
   "metadata": {},
   "outputs": [
    {
     "name": "stdout",
     "output_type": "stream",
     "text": [
      "s = 0 4\n",
      "i = 0 4\n",
      "p = 0 2\n",
      "m = 0 1\n"
     ]
    }
   ],
   "source": [
    "text = 'Mississippi'\n",
    "\n",
    "\n",
    "def make_dict(x):\n",
    "    dictionary = {}\n",
    "    for letter in x:\n",
    "        dictionary[letter] = 1 + dictionary.get(letter, 0)\n",
    "    return dictionary\n",
    "\n",
    "\n",
    "def most_frequent(text):\n",
    "    letters = [letter.lower() for letter in text if letter.isalpha()]\n",
    "    dictionary = make_dict(letters)\n",
    "    result = []\n",
    "    for key in dictionary:\n",
    "        result.append((dictionary[key], key))\n",
    "    result.sort(reverse=True)\n",
    "    for count, letter in result:\n",
    "        print(letter, \"= 0\",count)\n",
    "\n",
    "most_frequent(text)"
   ]
  },
  {
   "cell_type": "code",
   "execution_count": null,
   "metadata": {},
   "outputs": [],
   "source": []
  }
 ],
 "metadata": {
  "kernelspec": {
   "display_name": "Python 3",
   "language": "python",
   "name": "python3"
  },
  "language_info": {
   "codemirror_mode": {
    "name": "ipython",
    "version": 3
   },
   "file_extension": ".py",
   "mimetype": "text/x-python",
   "name": "python",
   "nbconvert_exporter": "python",
   "pygments_lexer": "ipython3",
   "version": "3.8.6"
  }
 },
 "nbformat": 4,
 "nbformat_minor": 4
}
